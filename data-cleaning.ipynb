{
 "cells": [
  {
   "cell_type": "raw",
   "metadata": {
    "vscode": {
     "languageId": "raw"
    }
   },
   "source": [
    "---\n",
    "title: \"Data Cleaning\"\n",
    "format: \n",
    "  html:\n",
    "    code-fold: true\n",
    "    embed-resources: true\n",
    "    toc: true\n",
    "theme: flatly\n",
    "---"
   ]
  },
  {
   "cell_type": "code",
   "execution_count": 21,
   "metadata": {},
   "outputs": [],
   "source": [
    "# import librariess\n",
    "import pandas as pd\n",
    "import numpy as np"
   ]
  },
  {
   "cell_type": "code",
   "execution_count": 22,
   "metadata": {},
   "outputs": [],
   "source": [
    "# load in the metro dataset\n",
    "data_dir_metro = \"https://raw.githubusercontent.com/chloefeehan/GSB544-Project/refs/heads/main/data/metro_monthly.csv\"\n",
    "metro = pd.read_csv(data_dir_metro)\n",
    "\n",
    "# remove commas in numerical columns\n",
    "metro[\"total_ridership\"] = metro[\"total_ridership\"].str.replace(\",\", \"\").astype(int)\n",
    "metro[\"total_miles\"] = metro[\"total_miles\"].str.replace(\",\", \"\").astype(int)\n",
    "\n",
    "# Remove the day_count column\n",
    "metro = metro.drop(columns=[\"day_count\"])\n",
    "\n",
    "# create emission column\n",
    "metro['emission'] = np.where(\n",
    "    metro['transportation_type'] == 'rail',\n",
    "    metro['total_miles'] * 0.365,\n",
    "    metro['total_miles'] * 0.643\n",
    ")"
   ]
  },
  {
   "cell_type": "code",
   "execution_count": 23,
   "metadata": {},
   "outputs": [],
   "source": [
    "# load in the gas dataset\n",
    "data_dir_gas = \"https://raw.githubusercontent.com/chloefeehan/GSB544-Project/refs/heads/main/data/gas.csv\"\n",
    "gas = pd.read_csv(data_dir_gas, skiprows = 4)\n",
    "\n",
    "#split date column into month, date, and year columns\n",
    "gas[[\"month\", \"date\", \"year\"]] = gas[\"Week of\"].str.split(\"/\", expand=True).astype(int)\n",
    "\n",
    "#filter the data by years 2017 - 2023\n",
    "filtered_gas = gas[(gas[\"year\"] >= 2017) & (gas[\"year\"] <= 2023)]\n",
    "\n",
    "# get the average monthly gas for each year\n",
    "monthly_avg_gas = (\n",
    "    filtered_gas.groupby([\"year\", \"month\"])[\"Weekly Los Angeles Regular All Formulations Retail Gasoline Prices Dollars per Gallon\"]\n",
    "    .mean()\n",
    "    .reset_index(name=\"avg_price\")\n",
    ")"
   ]
  },
  {
   "cell_type": "code",
   "execution_count": 24,
   "metadata": {},
   "outputs": [],
   "source": [
    "# merge the two datasets\n",
    "data_clean = metro.merge(monthly_avg_gas, on = [\"year\", \"month\"], how = \"left\")\n",
    "\n",
    "# create dummy variables for bus and rail\n",
    "data_clean[\"bus\"] = np.where(data_clean[\"transportation_type\"] == \"all bus\", 1, 0)\n",
    "data_clean[\"rail\"] = np.where(data_clean[\"transportation_type\"] == \"rail\", 1, 0)"
   ]
  },
  {
   "cell_type": "code",
   "execution_count": 25,
   "metadata": {},
   "outputs": [],
   "source": [
    "# write cleaned data into a csv\n",
    "data_clean.to_csv(\"data_clean.csv\")"
   ]
  }
 ],
 "metadata": {
  "language_info": {
   "name": "python"
  }
 },
 "nbformat": 4,
 "nbformat_minor": 2
}
