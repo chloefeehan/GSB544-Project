{
 "cells": [
  {
   "cell_type": "raw",
   "metadata": {
    "vscode": {
     "languageId": "raw"
    }
   },
   "source": [
    "---\n",
    "title: \"Data Cleaning\"\n",
    "format: \n",
    "  html:\n",
    "    code-fold: true\n",
    "    embed-resources: true\n",
    "    toc: true\n",
    "theme: flatly\n",
    "---"
   ]
  },
  {
   "cell_type": "code",
   "execution_count": 2,
   "metadata": {},
   "outputs": [],
   "source": [
    "# import libraries\n",
    "import pandas as pd"
   ]
  },
  {
   "cell_type": "code",
   "execution_count": 5,
   "metadata": {},
   "outputs": [],
   "source": [
    "# load in the metro dataset\n",
    "metro = pd.read_csv(\"/Users/chloefeehan/Desktop/python/GSB544/GSB544-Project/data/metro_monthly.csv\")\n",
    "\n",
    "# remove commas in numerical columns\n",
    "metro[\"total_ridership\"] = metro[\"total_ridership\"].str.replace(\",\", \"\").astype(int)\n",
    "metro[\"total_miles\"] = metro[\"total_miles\"].str.replace(\",\", \"\").astype(int)"
   ]
  },
  {
   "cell_type": "code",
   "execution_count": 13,
   "metadata": {},
   "outputs": [],
   "source": [
    "# load in the gas dataset\n",
    "gas = pd.read_csv(\"/Users/chloefeehan/Desktop/python/GSB544/GSB544-Project/data/gas.csv\", skiprows = 4)\n",
    "\n",
    "gas[[\"month\", \"date\", \"year\"]] = gas[\"Week of\"].str.split(\"/\", expand=True).astype(int)"
   ]
  },
  {
   "cell_type": "code",
   "execution_count": 10,
   "metadata": {},
   "outputs": [],
   "source": [
    "help(str.split)"
   ]
  }
 ],
 "metadata": {
  "language_info": {
   "name": "python"
  }
 },
 "nbformat": 4,
 "nbformat_minor": 2
}
